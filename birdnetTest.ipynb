{
  "cells": [
    {
      "cell_type": "markdown",
      "metadata": {
        "id": "iPSqhgtR2fRu"
      },
      "source": [
        "# BirdNet sandbox code\n",
        "This is a small collection of code to manipulate and analyse recording of bird song using the BirdNet Analyzer model to classify bird species based on recordings. The code is intended for use using Google Colab but can be easily altered for use on a local machine.  "
      ]
    },
    {
      "cell_type": "code",
      "execution_count": 1,
      "metadata": {
        "id": "XfD-vcML2fRz",
        "outputId": "d0cfc6de-483b-41e0-fd62-8288e4859b7a",
        "colab": {
          "base_uri": "https://localhost:8080/"
        }
      },
      "outputs": [
        {
          "output_type": "stream",
          "name": "stdout",
          "text": [
            "Cloning into 'birdnetTest'...\n",
            "remote: Enumerating objects: 114, done.\u001b[K\n",
            "remote: Counting objects: 100% (68/68), done.\u001b[K\n",
            "remote: Compressing objects: 100% (46/46), done.\u001b[K\n",
            "remote: Total 114 (delta 36), reused 52 (delta 21), pack-reused 46\u001b[K\n",
            "Receiving objects: 100% (114/114), 684.34 MiB | 22.08 MiB/s, done.\n",
            "Resolving deltas: 100% (51/51), done.\n",
            "Updating files: 100% (22/22), done.\n"
          ]
        }
      ],
      "source": [
        "!git clone https://github.com/weharris/birdnetTest"
      ]
    },
    {
      "cell_type": "code",
      "execution_count": 2,
      "metadata": {
        "id": "gVuVfBMJ2fR0",
        "outputId": "646895e7-93d4-4ac0-d2e1-ddb99e12cf93",
        "colab": {
          "base_uri": "https://localhost:8080/"
        }
      },
      "outputs": [
        {
          "output_type": "stream",
          "name": "stdout",
          "text": [
            "/content/birdnetTest\n"
          ]
        }
      ],
      "source": [
        "cd birdnetTest/"
      ]
    },
    {
      "cell_type": "code",
      "execution_count": 3,
      "metadata": {
        "id": "Ob8KuJjO2fR0",
        "outputId": "612c18c8-2152-47b8-a6ff-246204273956",
        "colab": {
          "base_uri": "https://localhost:8080/"
        }
      },
      "outputs": [
        {
          "output_type": "stream",
          "name": "stdout",
          "text": [
            "Collecting birdnetlib\n",
            "  Downloading birdnetlib-0.17.1-py3-none-any.whl (61.1 MB)\n",
            "\u001b[2K     \u001b[90m━━━━━━━━━━━━━━━━━━━━━━━━━━━━━━━━━━━━━━━━\u001b[0m \u001b[32m61.1/61.1 MB\u001b[0m \u001b[31m11.9 MB/s\u001b[0m eta \u001b[36m0:00:00\u001b[0m\n",
            "\u001b[?25hRequirement already satisfied: matplotlib>=3.5.3 in /usr/local/lib/python3.10/dist-packages (from birdnetlib) (3.7.1)\n",
            "Collecting pydub==0.25.1 (from birdnetlib)\n",
            "  Downloading pydub-0.25.1-py2.py3-none-any.whl (32 kB)\n",
            "Requirement already satisfied: requests>=2.28.1 in /usr/local/lib/python3.10/dist-packages (from birdnetlib) (2.31.0)\n",
            "Collecting watchdog==2.1.9 (from birdnetlib)\n",
            "  Downloading watchdog-2.1.9-py3-none-manylinux2014_x86_64.whl (78 kB)\n",
            "\u001b[2K     \u001b[90m━━━━━━━━━━━━━━━━━━━━━━━━━━━━━━━━━━━━━━━━\u001b[0m \u001b[32m78.4/78.4 kB\u001b[0m \u001b[31m7.6 MB/s\u001b[0m eta \u001b[36m0:00:00\u001b[0m\n",
            "\u001b[?25hRequirement already satisfied: contourpy>=1.0.1 in /usr/local/lib/python3.10/dist-packages (from matplotlib>=3.5.3->birdnetlib) (1.2.1)\n",
            "Requirement already satisfied: cycler>=0.10 in /usr/local/lib/python3.10/dist-packages (from matplotlib>=3.5.3->birdnetlib) (0.12.1)\n",
            "Requirement already satisfied: fonttools>=4.22.0 in /usr/local/lib/python3.10/dist-packages (from matplotlib>=3.5.3->birdnetlib) (4.51.0)\n",
            "Requirement already satisfied: kiwisolver>=1.0.1 in /usr/local/lib/python3.10/dist-packages (from matplotlib>=3.5.3->birdnetlib) (1.4.5)\n",
            "Requirement already satisfied: numpy>=1.20 in /usr/local/lib/python3.10/dist-packages (from matplotlib>=3.5.3->birdnetlib) (1.25.2)\n",
            "Requirement already satisfied: packaging>=20.0 in /usr/local/lib/python3.10/dist-packages (from matplotlib>=3.5.3->birdnetlib) (24.0)\n",
            "Requirement already satisfied: pillow>=6.2.0 in /usr/local/lib/python3.10/dist-packages (from matplotlib>=3.5.3->birdnetlib) (9.4.0)\n",
            "Requirement already satisfied: pyparsing>=2.3.1 in /usr/local/lib/python3.10/dist-packages (from matplotlib>=3.5.3->birdnetlib) (3.1.2)\n",
            "Requirement already satisfied: python-dateutil>=2.7 in /usr/local/lib/python3.10/dist-packages (from matplotlib>=3.5.3->birdnetlib) (2.8.2)\n",
            "Requirement already satisfied: charset-normalizer<4,>=2 in /usr/local/lib/python3.10/dist-packages (from requests>=2.28.1->birdnetlib) (3.3.2)\n",
            "Requirement already satisfied: idna<4,>=2.5 in /usr/local/lib/python3.10/dist-packages (from requests>=2.28.1->birdnetlib) (3.7)\n",
            "Requirement already satisfied: urllib3<3,>=1.21.1 in /usr/local/lib/python3.10/dist-packages (from requests>=2.28.1->birdnetlib) (2.0.7)\n",
            "Requirement already satisfied: certifi>=2017.4.17 in /usr/local/lib/python3.10/dist-packages (from requests>=2.28.1->birdnetlib) (2024.2.2)\n",
            "Requirement already satisfied: six>=1.5 in /usr/local/lib/python3.10/dist-packages (from python-dateutil>=2.7->matplotlib>=3.5.3->birdnetlib) (1.16.0)\n",
            "Installing collected packages: pydub, watchdog, birdnetlib\n",
            "Successfully installed birdnetlib-0.17.1 pydub-0.25.1 watchdog-2.1.9\n",
            "Collecting tflite-runtime\n",
            "  Downloading tflite_runtime-2.14.0-cp310-cp310-manylinux2014_x86_64.whl (2.4 MB)\n",
            "\u001b[2K     \u001b[90m━━━━━━━━━━━━━━━━━━━━━━━━━━━━━━━━━━━━━━━━\u001b[0m \u001b[32m2.4/2.4 MB\u001b[0m \u001b[31m12.0 MB/s\u001b[0m eta \u001b[36m0:00:00\u001b[0m\n",
            "\u001b[?25hRequirement already satisfied: numpy>=1.23.2 in /usr/local/lib/python3.10/dist-packages (from tflite-runtime) (1.25.2)\n",
            "Installing collected packages: tflite-runtime\n",
            "Successfully installed tflite-runtime-2.14.0\n",
            "Collecting resampy\n",
            "  Downloading resampy-0.4.3-py3-none-any.whl (3.1 MB)\n",
            "\u001b[2K     \u001b[90m━━━━━━━━━━━━━━━━━━━━━━━━━━━━━━━━━━━━━━━━\u001b[0m \u001b[32m3.1/3.1 MB\u001b[0m \u001b[31m30.5 MB/s\u001b[0m eta \u001b[36m0:00:00\u001b[0m\n",
            "\u001b[?25hRequirement already satisfied: numpy>=1.17 in /usr/local/lib/python3.10/dist-packages (from resampy) (1.25.2)\n",
            "Requirement already satisfied: numba>=0.53 in /usr/local/lib/python3.10/dist-packages (from resampy) (0.58.1)\n",
            "Requirement already satisfied: llvmlite<0.42,>=0.41.0dev0 in /usr/local/lib/python3.10/dist-packages (from numba>=0.53->resampy) (0.41.1)\n",
            "Installing collected packages: resampy\n",
            "Successfully installed resampy-0.4.3\n",
            "Collecting ffmpeg\n",
            "  Downloading ffmpeg-1.4.tar.gz (5.1 kB)\n",
            "  Preparing metadata (setup.py) ... \u001b[?25l\u001b[?25hdone\n",
            "Building wheels for collected packages: ffmpeg\n",
            "  Building wheel for ffmpeg (setup.py) ... \u001b[?25l\u001b[?25hdone\n",
            "  Created wheel for ffmpeg: filename=ffmpeg-1.4-py3-none-any.whl size=6082 sha256=170420808c8110769074fdc02182881388d8de7e92e06a7eb31b9ff2908fac97\n",
            "  Stored in directory: /root/.cache/pip/wheels/8e/7a/69/cd6aeb83b126a7f04cbe7c9d929028dc52a6e7d525ff56003a\n",
            "Successfully built ffmpeg\n",
            "Installing collected packages: ffmpeg\n",
            "Successfully installed ffmpeg-1.4\n"
          ]
        }
      ],
      "source": [
        "!pip3 install birdnetlib\n",
        "!pip3 install tflite-runtime\n",
        "!pip3 install resampy\n",
        "!pip3 install ffmpeg"
      ]
    },
    {
      "cell_type": "code",
      "execution_count": 4,
      "metadata": {
        "id": "YFXmzcSd2fR1"
      },
      "outputs": [],
      "source": [
        "from birdnetlib import Recording\n",
        "from birdnetlib.analyzer import Analyzer\n",
        "from datetime import datetime"
      ]
    },
    {
      "cell_type": "markdown",
      "metadata": {
        "id": "MIjhGiNT2fR1"
      },
      "source": [
        "## Code for a single recording"
      ]
    },
    {
      "cell_type": "code",
      "execution_count": 10,
      "metadata": {
        "id": "8be4AqbY2fR2",
        "outputId": "baa538c4-80ca-4bf0-cc50-dac78661ad16",
        "colab": {
          "base_uri": "https://localhost:8080/"
        }
      },
      "outputs": [
        {
          "output_type": "stream",
          "name": "stdout",
          "text": [
            "Labels loaded.\n",
            "load model True\n",
            "Model loaded.\n",
            "Labels loaded.\n",
            "load_species_list_model\n",
            "Meta model loaded.\n",
            "read_audio_data\n",
            "read_audio_data: complete, read  22 chunks.\n",
            "analyze_recording testamp.mp3\n",
            "recording has lon/lat\n",
            "set_predicted_species_list_from_position\n",
            "return_predicted_species_list\n",
            "15\n",
            "145 species loaded.\n"
          ]
        }
      ],
      "source": [
        "# This celluses BirdNET-Analyzer to analyze a single recording.\n",
        "# Load and initialize the BirdNET-Analyzer models.\n",
        "analyzer = Analyzer()\n",
        "\n",
        "testamp = [52.911,-2.4441] # near Market Drayton year=2024, month=4, day=5\n",
        "xc558223 = [57.4706, -4.163] # Highlands Scotland 2020-05-14 4am year=2020, month=5, day=14\n",
        "XC553677 = [54.1212, -0.5416] # Ryedale District,(near Helperthorpe) North Yorkshire 2020-05-01 5:10a year=2020, month=5, day=1\n",
        "\n",
        "recording = Recording(\n",
        "    analyzer,\n",
        "    \"data/EdH20240420/testamp.mp3\",  # path to the recording file\n",
        "    lat=testamp[0], # latitude of the recording location\n",
        "    lon=testamp[1], # longitude of the recording location\n",
        "    date=datetime(year=2024, month=4, day=20), # use date or week_48\n",
        "    min_conf=0.25,\n",
        ")\n",
        "recording.analyze()\n",
        "\n",
        "myDetections = recording.detections"
      ]
    },
    {
      "cell_type": "code",
      "execution_count": 17,
      "metadata": {
        "id": "y5LYC3dm2fR2",
        "outputId": "ea504bae-294d-462d-eff6-0bdc92801c20",
        "colab": {
          "base_uri": "https://localhost:8080/",
          "height": 143
        }
      },
      "outputs": [
        {
          "output_type": "execute_result",
          "data": {
            "text/plain": [
              "      Common Name  Count\n",
              "1   Eurasian Wren      2\n",
              "2  European Robin      1\n",
              "0       Great Tit      5"
            ],
            "text/html": [
              "\n",
              "  <div id=\"df-8bac8baf-508b-414d-a493-04072d2b5d7e\" class=\"colab-df-container\">\n",
              "    <div>\n",
              "<style scoped>\n",
              "    .dataframe tbody tr th:only-of-type {\n",
              "        vertical-align: middle;\n",
              "    }\n",
              "\n",
              "    .dataframe tbody tr th {\n",
              "        vertical-align: top;\n",
              "    }\n",
              "\n",
              "    .dataframe thead th {\n",
              "        text-align: right;\n",
              "    }\n",
              "</style>\n",
              "<table border=\"1\" class=\"dataframe\">\n",
              "  <thead>\n",
              "    <tr style=\"text-align: right;\">\n",
              "      <th></th>\n",
              "      <th>Common Name</th>\n",
              "      <th>Count</th>\n",
              "    </tr>\n",
              "  </thead>\n",
              "  <tbody>\n",
              "    <tr>\n",
              "      <th>1</th>\n",
              "      <td>Eurasian Wren</td>\n",
              "      <td>2</td>\n",
              "    </tr>\n",
              "    <tr>\n",
              "      <th>2</th>\n",
              "      <td>European Robin</td>\n",
              "      <td>1</td>\n",
              "    </tr>\n",
              "    <tr>\n",
              "      <th>0</th>\n",
              "      <td>Great Tit</td>\n",
              "      <td>5</td>\n",
              "    </tr>\n",
              "  </tbody>\n",
              "</table>\n",
              "</div>\n",
              "    <div class=\"colab-df-buttons\">\n",
              "\n",
              "  <div class=\"colab-df-container\">\n",
              "    <button class=\"colab-df-convert\" onclick=\"convertToInteractive('df-8bac8baf-508b-414d-a493-04072d2b5d7e')\"\n",
              "            title=\"Convert this dataframe to an interactive table.\"\n",
              "            style=\"display:none;\">\n",
              "\n",
              "  <svg xmlns=\"http://www.w3.org/2000/svg\" height=\"24px\" viewBox=\"0 -960 960 960\">\n",
              "    <path d=\"M120-120v-720h720v720H120Zm60-500h600v-160H180v160Zm220 220h160v-160H400v160Zm0 220h160v-160H400v160ZM180-400h160v-160H180v160Zm440 0h160v-160H620v160ZM180-180h160v-160H180v160Zm440 0h160v-160H620v160Z\"/>\n",
              "  </svg>\n",
              "    </button>\n",
              "\n",
              "  <style>\n",
              "    .colab-df-container {\n",
              "      display:flex;\n",
              "      gap: 12px;\n",
              "    }\n",
              "\n",
              "    .colab-df-convert {\n",
              "      background-color: #E8F0FE;\n",
              "      border: none;\n",
              "      border-radius: 50%;\n",
              "      cursor: pointer;\n",
              "      display: none;\n",
              "      fill: #1967D2;\n",
              "      height: 32px;\n",
              "      padding: 0 0 0 0;\n",
              "      width: 32px;\n",
              "    }\n",
              "\n",
              "    .colab-df-convert:hover {\n",
              "      background-color: #E2EBFA;\n",
              "      box-shadow: 0px 1px 2px rgba(60, 64, 67, 0.3), 0px 1px 3px 1px rgba(60, 64, 67, 0.15);\n",
              "      fill: #174EA6;\n",
              "    }\n",
              "\n",
              "    .colab-df-buttons div {\n",
              "      margin-bottom: 4px;\n",
              "    }\n",
              "\n",
              "    [theme=dark] .colab-df-convert {\n",
              "      background-color: #3B4455;\n",
              "      fill: #D2E3FC;\n",
              "    }\n",
              "\n",
              "    [theme=dark] .colab-df-convert:hover {\n",
              "      background-color: #434B5C;\n",
              "      box-shadow: 0px 1px 3px 1px rgba(0, 0, 0, 0.15);\n",
              "      filter: drop-shadow(0px 1px 2px rgba(0, 0, 0, 0.3));\n",
              "      fill: #FFFFFF;\n",
              "    }\n",
              "  </style>\n",
              "\n",
              "    <script>\n",
              "      const buttonEl =\n",
              "        document.querySelector('#df-8bac8baf-508b-414d-a493-04072d2b5d7e button.colab-df-convert');\n",
              "      buttonEl.style.display =\n",
              "        google.colab.kernel.accessAllowed ? 'block' : 'none';\n",
              "\n",
              "      async function convertToInteractive(key) {\n",
              "        const element = document.querySelector('#df-8bac8baf-508b-414d-a493-04072d2b5d7e');\n",
              "        const dataTable =\n",
              "          await google.colab.kernel.invokeFunction('convertToInteractive',\n",
              "                                                    [key], {});\n",
              "        if (!dataTable) return;\n",
              "\n",
              "        const docLinkHtml = 'Like what you see? Visit the ' +\n",
              "          '<a target=\"_blank\" href=https://colab.research.google.com/notebooks/data_table.ipynb>data table notebook</a>'\n",
              "          + ' to learn more about interactive tables.';\n",
              "        element.innerHTML = '';\n",
              "        dataTable['output_type'] = 'display_data';\n",
              "        await google.colab.output.renderOutput(dataTable, element);\n",
              "        const docLink = document.createElement('div');\n",
              "        docLink.innerHTML = docLinkHtml;\n",
              "        element.appendChild(docLink);\n",
              "      }\n",
              "    </script>\n",
              "  </div>\n",
              "\n",
              "\n",
              "<div id=\"df-2fb47909-f993-4986-9674-fe9af77553be\">\n",
              "  <button class=\"colab-df-quickchart\" onclick=\"quickchart('df-2fb47909-f993-4986-9674-fe9af77553be')\"\n",
              "            title=\"Suggest charts\"\n",
              "            style=\"display:none;\">\n",
              "\n",
              "<svg xmlns=\"http://www.w3.org/2000/svg\" height=\"24px\"viewBox=\"0 0 24 24\"\n",
              "     width=\"24px\">\n",
              "    <g>\n",
              "        <path d=\"M19 3H5c-1.1 0-2 .9-2 2v14c0 1.1.9 2 2 2h14c1.1 0 2-.9 2-2V5c0-1.1-.9-2-2-2zM9 17H7v-7h2v7zm4 0h-2V7h2v10zm4 0h-2v-4h2v4z\"/>\n",
              "    </g>\n",
              "</svg>\n",
              "  </button>\n",
              "\n",
              "<style>\n",
              "  .colab-df-quickchart {\n",
              "      --bg-color: #E8F0FE;\n",
              "      --fill-color: #1967D2;\n",
              "      --hover-bg-color: #E2EBFA;\n",
              "      --hover-fill-color: #174EA6;\n",
              "      --disabled-fill-color: #AAA;\n",
              "      --disabled-bg-color: #DDD;\n",
              "  }\n",
              "\n",
              "  [theme=dark] .colab-df-quickchart {\n",
              "      --bg-color: #3B4455;\n",
              "      --fill-color: #D2E3FC;\n",
              "      --hover-bg-color: #434B5C;\n",
              "      --hover-fill-color: #FFFFFF;\n",
              "      --disabled-bg-color: #3B4455;\n",
              "      --disabled-fill-color: #666;\n",
              "  }\n",
              "\n",
              "  .colab-df-quickchart {\n",
              "    background-color: var(--bg-color);\n",
              "    border: none;\n",
              "    border-radius: 50%;\n",
              "    cursor: pointer;\n",
              "    display: none;\n",
              "    fill: var(--fill-color);\n",
              "    height: 32px;\n",
              "    padding: 0;\n",
              "    width: 32px;\n",
              "  }\n",
              "\n",
              "  .colab-df-quickchart:hover {\n",
              "    background-color: var(--hover-bg-color);\n",
              "    box-shadow: 0 1px 2px rgba(60, 64, 67, 0.3), 0 1px 3px 1px rgba(60, 64, 67, 0.15);\n",
              "    fill: var(--button-hover-fill-color);\n",
              "  }\n",
              "\n",
              "  .colab-df-quickchart-complete:disabled,\n",
              "  .colab-df-quickchart-complete:disabled:hover {\n",
              "    background-color: var(--disabled-bg-color);\n",
              "    fill: var(--disabled-fill-color);\n",
              "    box-shadow: none;\n",
              "  }\n",
              "\n",
              "  .colab-df-spinner {\n",
              "    border: 2px solid var(--fill-color);\n",
              "    border-color: transparent;\n",
              "    border-bottom-color: var(--fill-color);\n",
              "    animation:\n",
              "      spin 1s steps(1) infinite;\n",
              "  }\n",
              "\n",
              "  @keyframes spin {\n",
              "    0% {\n",
              "      border-color: transparent;\n",
              "      border-bottom-color: var(--fill-color);\n",
              "      border-left-color: var(--fill-color);\n",
              "    }\n",
              "    20% {\n",
              "      border-color: transparent;\n",
              "      border-left-color: var(--fill-color);\n",
              "      border-top-color: var(--fill-color);\n",
              "    }\n",
              "    30% {\n",
              "      border-color: transparent;\n",
              "      border-left-color: var(--fill-color);\n",
              "      border-top-color: var(--fill-color);\n",
              "      border-right-color: var(--fill-color);\n",
              "    }\n",
              "    40% {\n",
              "      border-color: transparent;\n",
              "      border-right-color: var(--fill-color);\n",
              "      border-top-color: var(--fill-color);\n",
              "    }\n",
              "    60% {\n",
              "      border-color: transparent;\n",
              "      border-right-color: var(--fill-color);\n",
              "    }\n",
              "    80% {\n",
              "      border-color: transparent;\n",
              "      border-right-color: var(--fill-color);\n",
              "      border-bottom-color: var(--fill-color);\n",
              "    }\n",
              "    90% {\n",
              "      border-color: transparent;\n",
              "      border-bottom-color: var(--fill-color);\n",
              "    }\n",
              "  }\n",
              "</style>\n",
              "\n",
              "  <script>\n",
              "    async function quickchart(key) {\n",
              "      const quickchartButtonEl =\n",
              "        document.querySelector('#' + key + ' button');\n",
              "      quickchartButtonEl.disabled = true;  // To prevent multiple clicks.\n",
              "      quickchartButtonEl.classList.add('colab-df-spinner');\n",
              "      try {\n",
              "        const charts = await google.colab.kernel.invokeFunction(\n",
              "            'suggestCharts', [key], {});\n",
              "      } catch (error) {\n",
              "        console.error('Error during call to suggestCharts:', error);\n",
              "      }\n",
              "      quickchartButtonEl.classList.remove('colab-df-spinner');\n",
              "      quickchartButtonEl.classList.add('colab-df-quickchart-complete');\n",
              "    }\n",
              "    (() => {\n",
              "      let quickchartButtonEl =\n",
              "        document.querySelector('#df-2fb47909-f993-4986-9674-fe9af77553be button');\n",
              "      quickchartButtonEl.style.display =\n",
              "        google.colab.kernel.accessAllowed ? 'block' : 'none';\n",
              "    })();\n",
              "  </script>\n",
              "</div>\n",
              "    </div>\n",
              "  </div>\n"
            ],
            "application/vnd.google.colaboratory.intrinsic+json": {
              "type": "dataframe",
              "variable_name": "sorted_df",
              "summary": "{\n  \"name\": \"sorted_df\",\n  \"rows\": 3,\n  \"fields\": [\n    {\n      \"column\": \"Common Name\",\n      \"properties\": {\n        \"dtype\": \"string\",\n        \"num_unique_values\": 3,\n        \"samples\": [\n          \"Eurasian Wren\",\n          \"European Robin\",\n          \"Great Tit\"\n        ],\n        \"semantic_type\": \"\",\n        \"description\": \"\"\n      }\n    },\n    {\n      \"column\": \"Count\",\n      \"properties\": {\n        \"dtype\": \"number\",\n        \"std\": 2,\n        \"min\": 1,\n        \"max\": 5,\n        \"num_unique_values\": 3,\n        \"samples\": [\n          2,\n          1,\n          5\n        ],\n        \"semantic_type\": \"\",\n        \"description\": \"\"\n      }\n    }\n  ]\n}"
            }
          },
          "metadata": {},
          "execution_count": 17
        }
      ],
      "source": [
        "# for Single File and list of spp and counts\n",
        "import pandas as pd\n",
        "\n",
        "species_count = {}\n",
        "for entry in myDetections:\n",
        "    common_name = entry['common_name']\n",
        "    if common_name in species_count:\n",
        "        species_count[common_name] += 1\n",
        "    else:\n",
        "        species_count[common_name] = 1\n",
        "\n",
        "df = pd.DataFrame(list(species_count.items()), columns=['Common Name', 'Count'])\n",
        "\n",
        "sorted_df = df.sort_values('Common Name')\n",
        "# sorted_df = df.sort_values('Count', ascending=False)\n",
        "sorted_df.head()"
      ]
    },
    {
      "cell_type": "code",
      "execution_count": null,
      "metadata": {
        "id": "yxjnA0_62fR3"
      },
      "outputs": [],
      "source": [
        "# Print the results\n",
        "for file_name, result in results.items():\n",
        "    print(f\"File: {file_name}, Result: {result}\")"
      ]
    },
    {
      "cell_type": "code",
      "execution_count": null,
      "metadata": {
        "id": "VZ8tnDxf2fR3"
      },
      "outputs": [],
      "source": [
        "import matplotlib.pyplot as plt\n",
        "\n",
        "# Plotting\n",
        "plt.figure(figsize=(10, 6))  # Set the figure size\n",
        "plt.bar(df['Common Name'], df['Count'], color='skyblue')  # Create a bar plot\n",
        "plt.xlabel('Species')  # X-axis label\n",
        "plt.ylabel('Count')  # Y-axis label\n",
        "plt.title('Count of Bird Observations by Species')  # Title of the plot\n",
        "plt.xticks(rotation=45)  # Rotate x-axis labels for better readability\n",
        "plt.show()  # Display the plot"
      ]
    },
    {
      "cell_type": "markdown",
      "metadata": {
        "id": "xx9PVIMn2fR3"
      },
      "source": [
        "## Code for multiple recordings"
      ]
    },
    {
      "cell_type": "code",
      "execution_count": null,
      "metadata": {
        "id": "Rrns7jnB2fR4"
      },
      "outputs": [],
      "source": [
        "# This cell reads sound files from a directory you are prompted to specify\n",
        "# that contains multiple files you want to analyse\n",
        "%run scripts/dataFiles.py\n",
        "\n",
        "print(len(file_names), \" files\")\n",
        "\n",
        "file_names = sorted(file_names)\n",
        "print(file_names)\n",
        "# print(len(file_names), \" files\")\n",
        "# print(file_names)"
      ]
    },
    {
      "cell_type": "code",
      "execution_count": null,
      "metadata": {
        "id": "HLU34dwg2fR4"
      },
      "outputs": [],
      "source": [
        "# This cell uses BirdNET-Analyzer to analyze multiple recordings.\n",
        "# Load and initialize the BirdNET-Analyzer models.\n",
        "analyzer = Analyzer()\n",
        "\n",
        "testamp = [52.911,-2.4441] # near Market Drayton year=2024, month=4, day=20\n",
        "\n",
        "# Create a dictionary to store the results\n",
        "results = {}\n",
        "\n",
        "# Loop through all file names\n",
        "for file_name in file_names:\n",
        "    # Include the correct path to the data files\n",
        "    file_path = os.path.join('data', file_name)\n",
        "    recording = Recording(\n",
        "        analyzer,\n",
        "        file_path,  # path to the recording file\n",
        "        lat=testamp[0], # latitude of the recording location\n",
        "        lon=testamp[1], # longitude of the recording location\n",
        "        date=datetime(year=2024, month=4, day=20), # use date or week_48\n",
        "        min_conf=0.25,\n",
        "    )\n",
        "    # Analyze the recording and store the result in the dictionary\n",
        "    recording.analyze()\n",
        "    results[file_name] = recording.detections"
      ]
    },
    {
      "cell_type": "code",
      "execution_count": null,
      "metadata": {
        "id": "qIIkYJiE2fR4"
      },
      "outputs": [],
      "source": [
        "# for Multiple Files and list of spp and counts\n",
        "import pandas as pd\n",
        "\n",
        "# Convert the nested dictionaries into a list of dictionaries\n",
        "data = []\n",
        "for file_name, detections in results.items():\n",
        "    for detection in detections:\n",
        "        detection['file_name'] = file_name  # Add the file name to the detection dictionary\n",
        "        data.append(detection)\n",
        "\n",
        "# Create a DataFrame from the list of dictionaries\n",
        "df = pd.DataFrame(data)\n",
        "\n",
        "# Group by file_name and common_name, and count the number of detections for each\n",
        "counts = df.groupby(['common_name','file_name' ]).size().unstack(fill_value=0)\n",
        "\n",
        "# The result is a DataFrame where each row corresponds to a file, each column corresponds to a bird species,\n",
        "# and the cell values are the counts of detections for each species in each file\n",
        "\n",
        "print(counts)"
      ]
    },
    {
      "cell_type": "code",
      "execution_count": null,
      "metadata": {
        "id": "g3QeZNpH2fR4"
      },
      "outputs": [],
      "source": [
        "import seaborn as sns\n",
        "import matplotlib.pyplot as plt\n",
        "import matplotlib.colors as colors\n",
        "\n",
        "# Create a dictionary that maps the old labels to the new labels\n",
        "new_labels = {'BAT01_20240420_080000.wav': '08:00',\n",
        "              'BAT01_20240420_090000.wav': '09:00',\n",
        "              'BAT01_20240420_100000.wav': '10:00',\n",
        "              'BAT01_20240420_110000.wav': '11:00',\n",
        "              'BAT01_20240420_120000.wav': '12:00',\n",
        "              'BAT01_20240420_130000.wav': '13:00',\n",
        "              'BAT01_20240420_140000.wav': '14:00',\n",
        "              'BAT01_20240420_150000.wav': '15:00',\n",
        "              'BAT01_20240420_160000.wav': '16:00'}\n",
        "\n",
        "# Replace the column names of the DataFrame\n",
        "counts.rename(columns=new_labels, inplace=True)\n",
        "\n",
        "# Sum the counts for each species and sort in descending order\n",
        "sorted_species = counts.sum(axis=1).sort_values(ascending=False).index\n",
        "\n",
        "# Reorder the rows of the DataFrame\n",
        "counts = counts.loc[sorted_species]\n",
        "\n",
        "# Create a larger figure to accommodate the plot\n",
        "plt.figure(figsize=(10, len(counts.index) * 0.2))  # Adjust the size as needed\n",
        "\n",
        "# Create a colormap that uses gray for zero detections\n",
        "cmap = colors.ListedColormap(sns.color_palette(\"YlGnBu\", 256))\n",
        "cmap.set_under((0.85, 0.85, 0.85))  # Light gray\n",
        "#cmap.set_under(\"gray\")\n",
        "\n",
        "# Create the heatmap\n",
        "sns.heatmap(counts, cmap=cmap, vmin=0.01)  # Set vmin to a small value so that zero detections are colored gray\n",
        "\n",
        "plt.title('Bird species detections per hour')\n",
        "plt.ylabel('Species')\n",
        "plt.xlabel('Time')\n",
        "plt.xticks(rotation=90)  # Rotate the x-axis labels for better readability\n",
        "# Move the x-axis labels to the top\n",
        "plt.gca().xaxis.tick_top()\n",
        "plt.gca().xaxis.set_label_position('top')\n",
        "plt.show()"
      ]
    },
    {
      "cell_type": "code",
      "execution_count": null,
      "metadata": {
        "id": "GzVzAQf_2fR5"
      },
      "outputs": [],
      "source": [
        "import matplotlib.pyplot as plt\n",
        "\n",
        "# Calculate the number of detections for each file\n",
        "new_labels = {'BAT01_20240420_080000.wav': '08:00',\n",
        "              'BAT01_20240420_090000.wav': '09:00',\n",
        "              'BAT01_20240420_100000.wav': '10:00',\n",
        "              'BAT01_20240420_110000.wav': '11:00',\n",
        "              'BAT01_20240420_120000.wav': '12:00',\n",
        "              'BAT01_20240420_130000.wav': '13:00',\n",
        "              'BAT01_20240420_140000.wav': '14:00',\n",
        "              'BAT01_20240420_150000.wav': '15:00',\n",
        "              'BAT01_20240420_160000.wav': '16:00'}\n",
        "\n",
        "# Assuming df2 is your DataFrame and 'file_name' is the column with the filenames\n",
        "df2['file_name'] = df2['file_name'].replace(new_labels)\n",
        "\n",
        "detections = df2.groupby('file_name').size()\n",
        "\n",
        "# Create a bar plot\n",
        "detections.plot(kind='bar')\n",
        "\n",
        "# Set the title and labels\n",
        "plt.title('Number of Detections by Time')\n",
        "plt.xlabel('Time')\n",
        "plt.ylabel('Number of Detections')\n",
        "\n",
        "# Show the plot\n",
        "plt.show()"
      ]
    },
    {
      "cell_type": "markdown",
      "metadata": {
        "id": "90lLwZYT2fR5"
      },
      "source": [
        "## Miscellaneous code"
      ]
    },
    {
      "cell_type": "code",
      "execution_count": null,
      "metadata": {
        "id": "0sSU7Na22fR5"
      },
      "outputs": [],
      "source": [
        "# check a few confidence values\n",
        "# convert data to data frame\n",
        "import pandas as pd\n",
        "\n",
        "# Flatten the results into a list of dictionaries\n",
        "flattened_results = [item for sublist in results.values() for item in sublist]\n",
        "\n",
        "# Convert the list of dictionaries to a DataFrame\n",
        "df2 = pd.DataFrame(flattened_results)\n",
        "df2.head()"
      ]
    },
    {
      "cell_type": "code",
      "execution_count": null,
      "metadata": {
        "id": "0XQjJKMy2fR5"
      },
      "outputs": [],
      "source": [
        "mean_confidence = df2.groupby('common_name')['confidence'].mean()\n",
        "sorted_mean_confidence = mean_confidence.sort_values(ascending=False)\n",
        "print(sorted_mean_confidence)"
      ]
    },
    {
      "cell_type": "code",
      "execution_count": null,
      "metadata": {
        "id": "IJ1OmEiu2fR5"
      },
      "outputs": [],
      "source": [
        "# Species accumulation curve\n",
        "import matplotlib.pyplot as plt\n",
        "\n",
        "new_labels = {'BAT01_20240420_080000.wav': '08:00',\n",
        "              'BAT01_20240420_090000.wav': '09:00',\n",
        "              'BAT01_20240420_100000.wav': '10:00',\n",
        "              'BAT01_20240420_110000.wav': '11:00',\n",
        "              'BAT01_20240420_120000.wav': '12:00',\n",
        "              'BAT01_20240420_130000.wav': '13:00',\n",
        "              'BAT01_20240420_140000.wav': '14:00',\n",
        "              'BAT01_20240420_150000.wav': '15:00',\n",
        "              'BAT01_20240420_160000.wav': '16:00'}\n",
        "\n",
        "# Assuming counts is your DataFrame\n",
        "counts.rename(columns=new_labels, inplace=True)\n",
        "\n",
        "\n",
        "# Convert the presence/absence data to boolean\n",
        "presence = counts > 0\n",
        "\n",
        "# Calculate the cumulative sum of the boolean data over time\n",
        "cumulative_presence = presence.cumsum(axis=1)\n",
        "\n",
        "# Convert the cumulative sum to boolean\n",
        "cumulative_presence = cumulative_presence > 0\n",
        "\n",
        "# Calculate the sum of the boolean data over species\n",
        "unique_species = cumulative_presence.sum()\n",
        "\n",
        "# Plot the number of unique species over time\n",
        "unique_species.plot()\n",
        "\n",
        "# Set the title and labels\n",
        "plt.title('Species Accumulation Curve')\n",
        "plt.xlabel('Sampling Period')\n",
        "plt.ylabel('Number of Unique Species')\n",
        "# Angle the labels on the x-axis\n",
        "plt.xticks(rotation=45)\n",
        "\n",
        "# Show the plot\n",
        "plt.show()"
      ]
    },
    {
      "cell_type": "code",
      "execution_count": null,
      "metadata": {
        "id": "i6-y5FRs2fR5"
      },
      "outputs": [],
      "source": [
        "# Extract confidence values for \"Great Tit\"\n",
        "confidence_testamp = [entry['confidence'] for entry in testamp if entry['common_name'] == 'Great Tit']\n",
        "confidence_test = [entry['confidence'] for entry in test if entry['common_name'] == 'Great Tit']\n",
        "\n",
        "# Create DataFrame for plotting\n",
        "data = {\n",
        "    \"testamp\": confidence_testamp,\n",
        "    \"test\": confidence_test\n",
        "}\n",
        "df = pd.DataFrame(data)\n",
        "\n",
        "# Plotting\n",
        "plt.figure(figsize=(8, 6))\n",
        "df.boxplot(column=['testamp', 'test'])\n",
        "plt.ylabel('Confidence')\n",
        "plt.title('Confidence Levels for Great Tit Observations')\n",
        "plt.show()\n",
        "\n"
      ]
    },
    {
      "cell_type": "code",
      "execution_count": null,
      "metadata": {
        "id": "s-DvR6Wa2fR6"
      },
      "outputs": [],
      "source": [
        "# Perform a t-test\n",
        "from scipy.stats import ttest_ind\n",
        "t_stat, p_value = ttest_ind(confidence_testamp, confidence_test, equal_var=False)\n",
        "print(f\"T-statistic: {t_stat}, P-value: {p_value}\")"
      ]
    },
    {
      "cell_type": "markdown",
      "metadata": {
        "id": "TwmWcaTZ2fR6"
      },
      "source": [
        "## Sources\n",
        "https://github.com/kahst/BirdNET-Analyzer?tab=readme-ov-file#62-setup-birdnetlib"
      ]
    }
  ],
  "metadata": {
    "kernelspec": {
      "display_name": "base",
      "language": "python",
      "name": "python3"
    },
    "language_info": {
      "codemirror_mode": {
        "name": "ipython",
        "version": 3
      },
      "file_extension": ".py",
      "mimetype": "text/x-python",
      "name": "python",
      "nbconvert_exporter": "python",
      "pygments_lexer": "ipython3",
      "version": "3.10.7"
    },
    "colab": {
      "provenance": []
    }
  },
  "nbformat": 4,
  "nbformat_minor": 0
}
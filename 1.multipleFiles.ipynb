{
  "cells": [
    {
      "cell_type": "markdown",
      "metadata": {
        "id": "iPSqhgtR2fRu"
      },
      "source": [
        "# BirdNet sandbox code\n",
        "This is a small collection of code to manipulate and analyse recording of bird song using the BirdNet Analyzer model to classify bird species based on recordings. The code is intended for use using Google Colab but can be easily altered for use on a local machine.  "
      ]
    },
    {
      "cell_type": "code",
      "execution_count": null,
      "metadata": {
        "colab": {
          "base_uri": "https://localhost:8080/"
        },
        "id": "XfD-vcML2fRz",
        "outputId": "d0cfc6de-483b-41e0-fd62-8288e4859b7a"
      },
      "outputs": [],
      "source": [
        "!git clone https://github.com/weharris/birdnetTest"
      ]
    },
    {
      "cell_type": "code",
      "execution_count": null,
      "metadata": {
        "colab": {
          "base_uri": "https://localhost:8080/"
        },
        "id": "gVuVfBMJ2fR0",
        "outputId": "646895e7-93d4-4ac0-d2e1-ddb99e12cf93"
      },
      "outputs": [],
      "source": [
        "cd birdnetTest/"
      ]
    },
    {
      "cell_type": "code",
      "execution_count": null,
      "metadata": {
        "colab": {
          "base_uri": "https://localhost:8080/"
        },
        "id": "Ob8KuJjO2fR0",
        "outputId": "612c18c8-2152-47b8-a6ff-246204273956"
      },
      "outputs": [],
      "source": [
        "!pip3 install birdnetlib\n",
        "!pip3 install tflite-runtime\n",
        "!pip3 install resampy\n",
        "!pip3 install ffmpeg"
      ]
    },
    {
      "cell_type": "code",
      "execution_count": null,
      "metadata": {},
      "outputs": [],
      "source": [
        "from birdnetlib import Recording\n",
        "from birdnetlib.analyzer import Analyzer\n",
        "from datetime import datetime"
      ]
    },
    {
      "cell_type": "markdown",
      "metadata": {
        "id": "xx9PVIMn2fR3"
      },
      "source": [
        "## Code for multiple recordings"
      ]
    },
    {
      "cell_type": "code",
      "execution_count": 5,
      "metadata": {},
      "outputs": [
        {
          "name": "stdout",
          "output_type": "stream",
          "text": [
            "['BAT01_20240427_050000.wav', 'BAT01_20240427_060000.wav', 'BAT01_20240427_070000.wav', 'BAT01_20240427_080000.wav', 'BAT01_20240427_100000.wav', 'BAT01_20240427_110000.wav', 'BAT01_20240427_120000.wav', 'BAT01_20240427_130000.wav', 'BAT01_20240427_140000.wav', 'BAT01_20240427_150000.wav']\n"
          ]
        }
      ],
      "source": [
        "# get the data\n",
        "import os\n",
        "\n",
        "dataDir = 'data/EdH20240427'\n",
        "file_names = os.listdir(dataDir)\n",
        "# Get the file names\n",
        "print(file_names)"
      ]
    },
    {
      "cell_type": "code",
      "execution_count": null,
      "metadata": {
        "id": "HLU34dwg2fR4"
      },
      "outputs": [],
      "source": [
        "# This cell uses BirdNET-Analyzer to analyze multiple recordings.\n",
        "# Load and initialize the BirdNET-Analyzer models.\n",
        "analyzer = Analyzer()\n",
        "\n",
        "testamp = [52.911,-2.4441] # near Market Drayton year=2024, month=4, day=20\n",
        "\n",
        "# Create a dictionary to store the results\n",
        "results = {}\n",
        "\n",
        "# Loop through all file names\n",
        "for file_name in file_names:\n",
        "    # Include the correct path to the data files\n",
        "    file_path = os.path.join(dataDir, file_name)\n",
        "    recording = Recording(\n",
        "        analyzer,\n",
        "        file_path,  # path to the recording file\n",
        "        lat=testamp[0], # latitude of the recording location\n",
        "        lon=testamp[1], # longitude of the recording location\n",
        "        date=datetime(year=2024, month=4, day=20), # use date or week_48\n",
        "        min_conf=0.25,\n",
        "    )\n",
        "    # Analyze the recording and store the result in the dictionary\n",
        "    recording.analyze()\n",
        "    results[file_name] = recording.detections"
      ]
    },
    {
      "cell_type": "code",
      "execution_count": null,
      "metadata": {
        "id": "qIIkYJiE2fR4"
      },
      "outputs": [],
      "source": [
        "# for Multiple Files and list of spp and counts\n",
        "import pandas as pd\n",
        "\n",
        "# Convert the nested dictionaries into a list of dictionaries\n",
        "data = []\n",
        "for file_name, detections in results.items():\n",
        "    for detection in detections:\n",
        "        detection['file_name'] = file_name  # Add the file name to the detection dictionary\n",
        "        data.append(detection)\n",
        "\n",
        "# Create a DataFrame from the list of dictionaries\n",
        "df = pd.DataFrame(data)\n",
        "\n",
        "# Group by file_name and common_name, and count the number of detections for each\n",
        "counts = df.groupby(['common_name','file_name' ]).size().unstack(fill_value=0)\n",
        "\n",
        "# The result is a DataFrame where each row corresponds to a file, each column corresponds to a bird species,\n",
        "# and the cell values are the counts of detections for each species in each file\n",
        "\n",
        "print(counts)"
      ]
    },
    {
      "cell_type": "code",
      "execution_count": null,
      "metadata": {
        "id": "g3QeZNpH2fR4"
      },
      "outputs": [],
      "source": [
        "import seaborn as sns\n",
        "import matplotlib.pyplot as plt\n",
        "import matplotlib.colors as colors\n",
        "\n",
        "# Create a dictionary that maps the old labels to the new labels\n",
        "new_labels = {'BAT01_20240427_050000.wav': '05:00',\n",
        "              'BAT01_20240427_060000.wav': '06:00',\n",
        "              'BAT01_20240427_070000.wav': '07:00',\n",
        "              'BAT01_20240427_080000.wav': '08:00',\n",
        "              'BAT01_20240427_100000.wav': '10:00',\n",
        "              'BAT01_20240427_110000.wav': '11:00',\n",
        "              'BAT01_20240427_120000.wav': '12:00',\n",
        "              'BAT01_20240427_130000.wav': '13:00',\n",
        "              'BAT01_20240427_140000.wav': '14:00',\n",
        "              'BAT01_20240427_150000.wav': '15:00'}\n",
        "\n",
        "# Replace the column names of the DataFrame\n",
        "counts.rename(columns=new_labels, inplace=True)\n",
        "\n",
        "# Sum the counts for each species and sort in descending order\n",
        "sorted_species = counts.sum(axis=1).sort_values(ascending=False).index\n",
        "\n",
        "# Reorder the rows of the DataFrame\n",
        "counts = counts.loc[sorted_species]\n",
        "\n",
        "# Create a larger figure to accommodate the plot\n",
        "plt.figure(figsize=(10, len(counts.index) * 0.2))  # Adjust the size as needed\n",
        "\n",
        "# Create a colormap that uses gray for zero detections\n",
        "cmap = colors.ListedColormap(sns.color_palette(\"YlGnBu\", 256))\n",
        "cmap.set_under((0.85, 0.85, 0.85))  # Light gray\n",
        "#cmap.set_under(\"gray\")\n",
        "\n",
        "# Create the heatmap\n",
        "sns.heatmap(counts, cmap=cmap, vmin=0.01)  # Set vmin to a small value so that zero detections are colored gray\n",
        "\n",
        "plt.title('Bird species detections per hour')\n",
        "plt.ylabel('Species')\n",
        "plt.xlabel('Time')\n",
        "plt.xticks(rotation=90)  # Rotate the x-axis labels for better readability\n",
        "# Move the x-axis labels to the top\n",
        "plt.gca().xaxis.tick_top()\n",
        "plt.gca().xaxis.set_label_position('top')\n",
        "plt.show()"
      ]
    },
    {
      "cell_type": "code",
      "execution_count": null,
      "metadata": {
        "id": "GzVzAQf_2fR5"
      },
      "outputs": [],
      "source": [
        "import matplotlib.pyplot as plt\n",
        "\n",
        "# Calculate the number of detections for each file\n",
        "new_labels = {'BAT01_20240427_050000.wav': '05:00',\n",
        "              'BAT01_20240427_060000.wav': '06:00',\n",
        "              'BAT01_20240427_070000.wav': '07:00',\n",
        "              'BAT01_20240427_080000.wav': '08:00',\n",
        "              'BAT01_20240427_100000.wav': '10:00',\n",
        "              'BAT01_20240427_110000.wav': '11:00',\n",
        "              'BAT01_20240427_120000.wav': '12:00',\n",
        "              'BAT01_20240427_130000.wav': '13:00',\n",
        "              'BAT01_20240427_140000.wav': '14:00',\n",
        "              'BAT01_20240427_150000.wav': '15:00'}\n",
        "\n",
        "# Assuming df2 is your DataFrame and 'file_name' is the column with the filenames\n",
        "df['file_name'] = df['file_name'].replace(new_labels)\n",
        "\n",
        "detections = df.groupby('file_name').size()\n",
        "\n",
        "# Create a bar plot\n",
        "detections.plot(kind='bar')\n",
        "\n",
        "# Set the title and labels\n",
        "plt.title('Number of Detections by Time')\n",
        "plt.xlabel('Time')\n",
        "plt.ylabel('Number of Detections')\n",
        "\n",
        "# Show the plot\n",
        "plt.show()"
      ]
    },
    {
      "cell_type": "markdown",
      "metadata": {
        "id": "TwmWcaTZ2fR6"
      },
      "source": [
        "## Sources\n",
        "https://github.com/kahst/BirdNET-Analyzer?tab=readme-ov-file#62-setup-birdnetlib"
      ]
    }
  ],
  "metadata": {
    "colab": {
      "provenance": []
    },
    "kernelspec": {
      "display_name": "base",
      "language": "python",
      "name": "python3"
    },
    "language_info": {
      "codemirror_mode": {
        "name": "ipython",
        "version": 3
      },
      "file_extension": ".py",
      "mimetype": "text/x-python",
      "name": "python",
      "nbconvert_exporter": "python",
      "pygments_lexer": "ipython3",
      "version": "3.10.7"
    }
  },
  "nbformat": 4,
  "nbformat_minor": 0
}

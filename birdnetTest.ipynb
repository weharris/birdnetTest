{
 "cells": [
  {
   "cell_type": "code",
   "execution_count": null,
   "metadata": {},
   "outputs": [],
   "source": [
    "pip3 install birdnetlib\n",
    "pip3 install tflite-runtime\n",
    "pip3 install resampy\n",
    "apt get install ffmpeg"
   ]
  },
  {
   "cell_type": "code",
   "execution_count": null,
   "metadata": {},
   "outputs": [],
   "source": [
    "from birdnetlib import Recording\n",
    "from birdnetlib.analyzer import Analyzer\n",
    "from datetime import datetime\n",
    "\n",
    "# Load and initialize the BirdNET-Analyzer models.\n",
    "analyzer = Analyzer()\n",
    "\n",
    "recording = Recording(\n",
    "    analyzer,\n",
    "    \"test.mp3\",\n",
    "    lat=35.4244,\n",
    "    lon=-120.7463,\n",
    "    date=datetime(year=2022, month=5, day=10), # use date or week_48\n",
    "    min_conf=0.25,\n",
    ")\n",
    "recording.analyze()\n",
    "print(recording.detections)"
   ]
  }
 ],
 "metadata": {
  "language_info": {
   "name": "python"
  }
 },
 "nbformat": 4,
 "nbformat_minor": 2
}

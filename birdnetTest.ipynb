{
 "cells": [
  {
   "cell_type": "code",
   "execution_count": null,
   "metadata": {},
   "outputs": [],
   "source": [
    "!git clone https://github.com/weharris/birdnetTest"
   ]
  },
  {
   "cell_type": "code",
   "execution_count": null,
   "metadata": {},
   "outputs": [],
   "source": [
    "cd birdnetTest/"
   ]
  },
  {
   "cell_type": "code",
   "execution_count": 1,
   "metadata": {},
   "outputs": [
    {
     "name": "stdout",
     "output_type": "stream",
     "text": [
      "Collecting birdnetlib\n",
      "  Downloading birdnetlib-0.16.0-py3-none-any.whl (61.1 MB)\n",
      "     -------------------------------------- 61.1/61.1 MB 630.2 kB/s eta 0:00:00\n",
      "Requirement already satisfied: matplotlib>=3.5.3 in c:\\users\\weh90\\anaconda3\\lib\\site-packages (from birdnetlib) (3.7.0)\n",
      "Requirement already satisfied: requests>=2.28.1 in c:\\users\\weh90\\anaconda3\\lib\\site-packages (from birdnetlib) (2.28.1)\n",
      "Collecting watchdog==2.1.9\n",
      "  Downloading watchdog-2.1.9-py3-none-win_amd64.whl (78 kB)\n",
      "     -------------------------------------- 78.4/78.4 kB 725.1 kB/s eta 0:00:00\n",
      "Collecting pydub==0.25.1\n",
      "  Downloading pydub-0.25.1-py2.py3-none-any.whl (32 kB)\n",
      "Requirement already satisfied: python-dateutil>=2.7 in c:\\users\\weh90\\anaconda3\\lib\\site-packages (from matplotlib>=3.5.3->birdnetlib) (2.8.2)\n",
      "Requirement already satisfied: pillow>=6.2.0 in c:\\users\\weh90\\anaconda3\\lib\\site-packages (from matplotlib>=3.5.3->birdnetlib) (9.4.0)\n",
      "Requirement already satisfied: pyparsing>=2.3.1 in c:\\users\\weh90\\anaconda3\\lib\\site-packages (from matplotlib>=3.5.3->birdnetlib) (3.0.9)\n",
      "Requirement already satisfied: cycler>=0.10 in c:\\users\\weh90\\anaconda3\\lib\\site-packages (from matplotlib>=3.5.3->birdnetlib) (0.11.0)\n",
      "Requirement already satisfied: packaging>=20.0 in c:\\users\\weh90\\anaconda3\\lib\\site-packages (from matplotlib>=3.5.3->birdnetlib) (22.0)\n",
      "Requirement already satisfied: kiwisolver>=1.0.1 in c:\\users\\weh90\\anaconda3\\lib\\site-packages (from matplotlib>=3.5.3->birdnetlib) (1.4.4)\n",
      "Requirement already satisfied: contourpy>=1.0.1 in c:\\users\\weh90\\anaconda3\\lib\\site-packages (from matplotlib>=3.5.3->birdnetlib) (1.0.5)\n",
      "Requirement already satisfied: numpy>=1.20 in c:\\users\\weh90\\anaconda3\\lib\\site-packages (from matplotlib>=3.5.3->birdnetlib) (1.23.5)\n",
      "Requirement already satisfied: fonttools>=4.22.0 in c:\\users\\weh90\\anaconda3\\lib\\site-packages (from matplotlib>=3.5.3->birdnetlib) (4.25.0)\n",
      "Requirement already satisfied: urllib3<1.27,>=1.21.1 in c:\\users\\weh90\\anaconda3\\lib\\site-packages (from requests>=2.28.1->birdnetlib) (1.26.14)\n",
      "Requirement already satisfied: charset-normalizer<3,>=2 in c:\\users\\weh90\\anaconda3\\lib\\site-packages (from requests>=2.28.1->birdnetlib) (2.0.4)\n",
      "Requirement already satisfied: idna<4,>=2.5 in c:\\users\\weh90\\anaconda3\\lib\\site-packages (from requests>=2.28.1->birdnetlib) (3.4)\n",
      "Requirement already satisfied: certifi>=2017.4.17 in c:\\users\\weh90\\anaconda3\\lib\\site-packages (from requests>=2.28.1->birdnetlib) (2022.12.7)\n",
      "Requirement already satisfied: six>=1.5 in c:\\users\\weh90\\anaconda3\\lib\\site-packages (from python-dateutil>=2.7->matplotlib>=3.5.3->birdnetlib) (1.16.0)\n",
      "Installing collected packages: pydub, watchdog, birdnetlib\n",
      "  Attempting uninstall: watchdog\n",
      "    Found existing installation: watchdog 2.1.6\n",
      "    Uninstalling watchdog-2.1.6:\n",
      "      Successfully uninstalled watchdog-2.1.6\n",
      "Successfully installed birdnetlib-0.16.0 pydub-0.25.1 watchdog-2.1.9\n"
     ]
    },
    {
     "name": "stderr",
     "output_type": "stream",
     "text": [
      "ERROR: Could not find a version that satisfies the requirement tflite-runtime (from versions: none)\n",
      "ERROR: No matching distribution found for tflite-runtime\n"
     ]
    },
    {
     "name": "stdout",
     "output_type": "stream",
     "text": [
      "Collecting resampy\n",
      "  Downloading resampy-0.4.3-py3-none-any.whl (3.1 MB)\n",
      "     ---------------------------------------- 3.1/3.1 MB 2.0 MB/s eta 0:00:00\n",
      "Requirement already satisfied: numpy>=1.17 in c:\\users\\weh90\\anaconda3\\lib\\site-packages (from resampy) (1.23.5)\n",
      "Requirement already satisfied: numba>=0.53 in c:\\users\\weh90\\anaconda3\\lib\\site-packages (from resampy) (0.56.4)\n",
      "Requirement already satisfied: setuptools in c:\\users\\weh90\\anaconda3\\lib\\site-packages (from numba>=0.53->resampy) (65.6.3)\n",
      "Requirement already satisfied: llvmlite<0.40,>=0.39.0dev0 in c:\\users\\weh90\\anaconda3\\lib\\site-packages (from numba>=0.53->resampy) (0.39.1)\n",
      "Installing collected packages: resampy\n",
      "Successfully installed resampy-0.4.3\n",
      "Collecting ffmpeg\n",
      "  Downloading ffmpeg-1.4.tar.gz (5.1 kB)\n",
      "  Preparing metadata (setup.py): started\n",
      "  Preparing metadata (setup.py): finished with status 'done'\n",
      "Building wheels for collected packages: ffmpeg\n",
      "  Building wheel for ffmpeg (setup.py): started\n",
      "  Building wheel for ffmpeg (setup.py): finished with status 'done'\n",
      "  Created wheel for ffmpeg: filename=ffmpeg-1.4-py3-none-any.whl size=6089 sha256=38dd395092e773a5660bce741ee340f99b4c0ec7eb527fec60ea85e7021d73af\n",
      "  Stored in directory: c:\\users\\weh90\\appdata\\local\\pip\\cache\\wheels\\e3\\61\\b9\\e9c5cf3d76e5a83f61e4dc835e61ef86af884c2a48b4feeb47\n",
      "Successfully built ffmpeg\n",
      "Installing collected packages: ffmpeg\n",
      "Successfully installed ffmpeg-1.4\n"
     ]
    }
   ],
   "source": [
    "!pip3 install birdnetlib\n",
    "!pip3 install tflite-runtime\n",
    "!pip3 install resampy\n",
    "!pip3 install ffmpeg"
   ]
  },
  {
   "cell_type": "code",
   "execution_count": null,
   "metadata": {},
   "outputs": [],
   "source": [
    "from birdnetlib import Recording\n",
    "from birdnetlib.analyzer import Analyzer\n",
    "from datetime import datetime\n",
    "\n",
    "# Load and initialize the BirdNET-Analyzer models.\n",
    "analyzer = Analyzer()\n",
    "\n",
    "Edhome = [52.911,-2.4441] # near Market Drayton year=2024, month=4, day=5\n",
    "xc558223 = [57.4706, -4.163] # Highlands Scotland 2020-05-14 4am year=2020, month=5, day=14\n",
    "\n",
    "recording = Recording(\n",
    "    analyzer,\n",
    "    \"testamp.mp3\",\n",
    "    lat=xc558223[0],\n",
    "    lon=-xc558223[1],\n",
    "    date=datetime(year=2020, month=5, day=14), # use date or week_48\n",
    "    min_conf=0.25,\n",
    ")\n",
    "recording.analyze()\n"
   ]
  },
  {
   "cell_type": "code",
   "execution_count": null,
   "metadata": {},
   "outputs": [],
   "source": [
    "testamp = recording.detections\n",
    "print(testamp)"
   ]
  },
  {
   "cell_type": "code",
   "execution_count": null,
   "metadata": {},
   "outputs": [],
   "source": [
    "testamp[0]"
   ]
  },
  {
   "cell_type": "code",
   "execution_count": 3,
   "metadata": {},
   "outputs": [],
   "source": [
    "import pandas as pd\n",
    "import matplotlib.pyplot as plt"
   ]
  },
  {
   "cell_type": "code",
   "execution_count": null,
   "metadata": {},
   "outputs": [],
   "source": [
    "species_count = {}\n",
    "for entry in testamp:\n",
    "    common_name = entry['common_name']\n",
    "    if common_name in species_count:\n",
    "        species_count[common_name] += 1\n",
    "    else:\n",
    "        species_count[common_name] = 1\n",
    "\n",
    "df = pd.DataFrame(list(species_count.items()), columns=['Common Name', 'Count'])"
   ]
  },
  {
   "cell_type": "code",
   "execution_count": null,
   "metadata": {},
   "outputs": [],
   "source": [
    "print(df)"
   ]
  },
  {
   "cell_type": "code",
   "execution_count": 4,
   "metadata": {},
   "outputs": [
    {
     "ename": "NameError",
     "evalue": "name 'df' is not defined",
     "output_type": "error",
     "traceback": [
      "\u001b[1;31m---------------------------------------------------------------------------\u001b[0m",
      "\u001b[1;31mNameError\u001b[0m                                 Traceback (most recent call last)",
      "Cell \u001b[1;32mIn[4], line 3\u001b[0m\n\u001b[0;32m      1\u001b[0m \u001b[38;5;66;03m# Plotting\u001b[39;00m\n\u001b[0;32m      2\u001b[0m plt\u001b[38;5;241m.\u001b[39mfigure(figsize\u001b[38;5;241m=\u001b[39m(\u001b[38;5;241m10\u001b[39m, \u001b[38;5;241m6\u001b[39m))  \u001b[38;5;66;03m# Set the figure size\u001b[39;00m\n\u001b[1;32m----> 3\u001b[0m plt\u001b[38;5;241m.\u001b[39mbar(\u001b[43mdf\u001b[49m[\u001b[38;5;124m'\u001b[39m\u001b[38;5;124mCommon Name\u001b[39m\u001b[38;5;124m'\u001b[39m], df[\u001b[38;5;124m'\u001b[39m\u001b[38;5;124mCount\u001b[39m\u001b[38;5;124m'\u001b[39m], color\u001b[38;5;241m=\u001b[39m\u001b[38;5;124m'\u001b[39m\u001b[38;5;124mskyblue\u001b[39m\u001b[38;5;124m'\u001b[39m)  \u001b[38;5;66;03m# Create a bar plot\u001b[39;00m\n\u001b[0;32m      4\u001b[0m plt\u001b[38;5;241m.\u001b[39mxlabel(\u001b[38;5;124m'\u001b[39m\u001b[38;5;124mSpecies\u001b[39m\u001b[38;5;124m'\u001b[39m)  \u001b[38;5;66;03m# X-axis label\u001b[39;00m\n\u001b[0;32m      5\u001b[0m plt\u001b[38;5;241m.\u001b[39mylabel(\u001b[38;5;124m'\u001b[39m\u001b[38;5;124mCount\u001b[39m\u001b[38;5;124m'\u001b[39m)  \u001b[38;5;66;03m# Y-axis label\u001b[39;00m\n",
      "\u001b[1;31mNameError\u001b[0m: name 'df' is not defined"
     ]
    },
    {
     "data": {
      "text/plain": [
       "<Figure size 1000x600 with 0 Axes>"
      ]
     },
     "metadata": {},
     "output_type": "display_data"
    }
   ],
   "source": [
    "# Plotting\n",
    "plt.figure(figsize=(10, 6))  # Set the figure size\n",
    "plt.bar(df['Common Name'], df['Count'], color='skyblue')  # Create a bar plot\n",
    "plt.xlabel('Species')  # X-axis label\n",
    "plt.ylabel('Count')  # Y-axis label\n",
    "plt.title('Count of Bird Observations by Species')  # Title of the plot\n",
    "plt.xticks(rotation=45)  # Rotate x-axis labels for better readability\n",
    "plt.show()  # Display the plot"
   ]
  },
  {
   "cell_type": "code",
   "execution_count": null,
   "metadata": {},
   "outputs": [],
   "source": [
    "analyzer = Analyzer()\n",
    "\n",
    "recording = Recording(\n",
    "    analyzer,\n",
    "    \"test.mp3\",\n",
    "    lat=52.911,\n",
    "    lon=-2.4441,\n",
    "    date=datetime(year=2024, month=4, day=5), # use date or week_48\n",
    "    min_conf=0.25,\n",
    ")\n",
    "recording.analyze()"
   ]
  },
  {
   "cell_type": "code",
   "execution_count": null,
   "metadata": {},
   "outputs": [],
   "source": [
    "test = recording.detections\n",
    "print(test)"
   ]
  },
  {
   "cell_type": "code",
   "execution_count": 6,
   "metadata": {},
   "outputs": [
    {
     "ename": "NameError",
     "evalue": "name 'testamp' is not defined",
     "output_type": "error",
     "traceback": [
      "\u001b[1;31m---------------------------------------------------------------------------\u001b[0m",
      "\u001b[1;31mNameError\u001b[0m                                 Traceback (most recent call last)",
      "Cell \u001b[1;32mIn[6], line 2\u001b[0m\n\u001b[0;32m      1\u001b[0m \u001b[38;5;66;03m# Extract confidence values for \"Great Tit\"\u001b[39;00m\n\u001b[1;32m----> 2\u001b[0m confidence_testamp \u001b[38;5;241m=\u001b[39m [entry[\u001b[38;5;124m'\u001b[39m\u001b[38;5;124mconfidence\u001b[39m\u001b[38;5;124m'\u001b[39m] \u001b[38;5;28;01mfor\u001b[39;00m entry \u001b[38;5;129;01min\u001b[39;00m \u001b[43mtestamp\u001b[49m \u001b[38;5;28;01mif\u001b[39;00m entry[\u001b[38;5;124m'\u001b[39m\u001b[38;5;124mcommon_name\u001b[39m\u001b[38;5;124m'\u001b[39m] \u001b[38;5;241m==\u001b[39m \u001b[38;5;124m'\u001b[39m\u001b[38;5;124mGreat Tit\u001b[39m\u001b[38;5;124m'\u001b[39m]\n\u001b[0;32m      3\u001b[0m confidence_test \u001b[38;5;241m=\u001b[39m [entry[\u001b[38;5;124m'\u001b[39m\u001b[38;5;124mconfidence\u001b[39m\u001b[38;5;124m'\u001b[39m] \u001b[38;5;28;01mfor\u001b[39;00m entry \u001b[38;5;129;01min\u001b[39;00m test \u001b[38;5;28;01mif\u001b[39;00m entry[\u001b[38;5;124m'\u001b[39m\u001b[38;5;124mcommon_name\u001b[39m\u001b[38;5;124m'\u001b[39m] \u001b[38;5;241m==\u001b[39m \u001b[38;5;124m'\u001b[39m\u001b[38;5;124mGreat Tit\u001b[39m\u001b[38;5;124m'\u001b[39m]\n\u001b[0;32m      5\u001b[0m \u001b[38;5;66;03m# Create DataFrame for plotting\u001b[39;00m\n",
      "\u001b[1;31mNameError\u001b[0m: name 'testamp' is not defined"
     ]
    }
   ],
   "source": [
    "# Extract confidence values for \"Great Tit\"\n",
    "confidence_testamp = [entry['confidence'] for entry in testamp if entry['common_name'] == 'Great Tit']\n",
    "confidence_test = [entry['confidence'] for entry in test if entry['common_name'] == 'Great Tit']\n",
    "\n",
    "# Create DataFrame for plotting\n",
    "data = {\n",
    "    \"testamp\": confidence_testamp,\n",
    "    \"test\": confidence_test\n",
    "}\n",
    "df = pd.DataFrame(data)\n",
    "\n",
    "# Plotting\n",
    "plt.figure(figsize=(8, 6))\n",
    "df.boxplot(column=['testamp', 'test'])\n",
    "plt.ylabel('Confidence')\n",
    "plt.title('Confidence Levels for Great Tit Observations')\n",
    "plt.show()\n",
    "\n"
   ]
  },
  {
   "cell_type": "code",
   "execution_count": null,
   "metadata": {},
   "outputs": [],
   "source": [
    "# Perform a t-test\n",
    "from scipy.stats import ttest_ind\n",
    "t_stat, p_value = ttest_ind(confidence_testamp, confidence_test, equal_var=False)\n",
    "print(f\"T-statistic: {t_stat}, P-value: {p_value}\")"
   ]
  },
  {
   "cell_type": "markdown",
   "metadata": {},
   "source": [
    "## Sources\n",
    "https://github.com/kahst/BirdNET-Analyzer?tab=readme-ov-file#62-setup-birdnetlib"
   ]
  }
 ],
 "metadata": {
  "kernelspec": {
   "display_name": "base",
   "language": "python",
   "name": "python3"
  },
  "language_info": {
   "codemirror_mode": {
    "name": "ipython",
    "version": 3
   },
   "file_extension": ".py",
   "mimetype": "text/x-python",
   "name": "python",
   "nbconvert_exporter": "python",
   "pygments_lexer": "ipython3",
   "version": "3.10.9"
  }
 },
 "nbformat": 4,
 "nbformat_minor": 2
}

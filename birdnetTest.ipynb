{
 "cells": [
  {
   "cell_type": "code",
   "execution_count": null,
   "metadata": {},
   "outputs": [],
   "source": [
    "!git clone https://github.com/weharris/birdnetTest"
   ]
  },
  {
   "cell_type": "code",
   "execution_count": null,
   "metadata": {},
   "outputs": [],
   "source": [
    "cd birdnetTest/"
   ]
  },
  {
   "cell_type": "code",
   "execution_count": null,
   "metadata": {},
   "outputs": [],
   "source": [
    "!pip3 install birdnetlib\n",
    "!pip3 install tflite-runtime\n",
    "!pip3 install resampy\n",
    "!pip3 install ffmpeg"
   ]
  },
  {
   "cell_type": "code",
   "execution_count": null,
   "metadata": {},
   "outputs": [],
   "source": [
    "from birdnetlib import Recording\n",
    "from birdnetlib.analyzer import Analyzer\n",
    "from datetime import datetime"
   ]
  },
  {
   "cell_type": "code",
   "execution_count": null,
   "metadata": {},
   "outputs": [],
   "source": [
    "# This celluses BirdNET-Analyzer to analyze a single recording.\n",
    "# Load and initialize the BirdNET-Analyzer models.\n",
    "analyzer = Analyzer()\n",
    "\n",
    "testamp = [52.911,-2.4441] # near Market Drayton year=2024, month=4, day=5\n",
    "xc558223 = [57.4706, -4.163] # Highlands Scotland 2020-05-14 4am year=2020, month=5, day=14\n",
    "XC553677 = [54.1212, -0.5416] # Ryedale District,(near Helperthorpe) North Yorkshire 2020-05-01 5:10a year=2020, month=5, day=1\n",
    "\n",
    "recording = Recording(\n",
    "    analyzer,\n",
    "    \"testamp.mp3\",  # path to the recording file\n",
    "    lat=testamp[0], # latitude of the recording location\n",
    "    lon=testamp[1], # longitude of the recording location\n",
    "    date=datetime(year=2024, month=4, day=20), # use date or week_48\n",
    "    min_conf=0.25,\n",
    ")\n",
    "recording.analyze()"
   ]
  },
  {
   "cell_type": "code",
   "execution_count": null,
   "metadata": {},
   "outputs": [],
   "source": [
    "# This cell reads sound files from a directory you are prompted to specify\n",
    "%run scripts/dataFiles.py\n",
    "print(len(file_names), \" files\")\n",
    "print(file_names)\n"
   ]
  },
  {
   "cell_type": "code",
   "execution_count": 2,
   "metadata": {},
   "outputs": [
    {
     "ename": "NameError",
     "evalue": "name 'Analyzer' is not defined",
     "output_type": "error",
     "traceback": [
      "\u001b[1;31m---------------------------------------------------------------------------\u001b[0m",
      "\u001b[1;31mNameError\u001b[0m                                 Traceback (most recent call last)",
      "Cell \u001b[1;32mIn [2], line 4\u001b[0m\n\u001b[0;32m      1\u001b[0m \u001b[38;5;66;03m# This cell uses BirdNET-Analyzer to analyze multiple recordings.\u001b[39;00m\n\u001b[0;32m      2\u001b[0m \u001b[38;5;66;03m# Load and initialize the BirdNET-Analyzer models.\u001b[39;00m\n\u001b[1;32m----> 4\u001b[0m analyzer \u001b[38;5;241m=\u001b[39m \u001b[43mAnalyzer\u001b[49m()\n\u001b[0;32m      6\u001b[0m testamp \u001b[38;5;241m=\u001b[39m [\u001b[38;5;241m52.911\u001b[39m,\u001b[38;5;241m-\u001b[39m\u001b[38;5;241m2.4441\u001b[39m] \u001b[38;5;66;03m# near Market Drayton year=2024, month=4, day=5\u001b[39;00m\n\u001b[0;32m      8\u001b[0m \u001b[38;5;66;03m# Loop through all file names\u001b[39;00m\n",
      "\u001b[1;31mNameError\u001b[0m: name 'Analyzer' is not defined"
     ]
    }
   ],
   "source": [
    "# This cell uses BirdNET-Analyzer to analyze multiple recordings.\n",
    "# Load and initialize the BirdNET-Analyzer models.\n",
    "\n",
    "\n",
    "testamp = [52.911,-2.4441] # near Market Drayton year=2024, month=4, day=5\n",
    "\n",
    "# Create a dictionary to store the results\n",
    "results = {}\n",
    "\n",
    "# Loop through all file names\n",
    "for file_name in file_names:\n",
    "    # Include the correct path to the data files\n",
    "    file_path = os.path.join('data', file_name)\n",
    "    recording = Recording(\n",
    "        analyzer,\n",
    "        file_path,  # path to the recording file\n",
    "        lat=testamp[0], # latitude of the recording location\n",
    "        lon=testamp[1], # longitude of the recording location\n",
    "        date=datetime(year=2024, month=4, day=20), # use date or week_48\n",
    "        min_conf=0.25,\n",
    "    )\n",
    "    # Analyze the recording and store the result in the dictionary\n",
    "    results[file_name] = recording.analyze()\n"
   ]
  },
  {
   "cell_type": "code",
   "execution_count": null,
   "metadata": {},
   "outputs": [],
   "source": [
    "testamp = recording.detections\n",
    "print(testamp)"
   ]
  },
  {
   "cell_type": "code",
   "execution_count": null,
   "metadata": {},
   "outputs": [],
   "source": [
    "testamp[0]"
   ]
  },
  {
   "cell_type": "code",
   "execution_count": 3,
   "metadata": {},
   "outputs": [],
   "source": [
    "import pandas as pd\n",
    "import matplotlib.pyplot as plt"
   ]
  },
  {
   "cell_type": "code",
   "execution_count": null,
   "metadata": {},
   "outputs": [],
   "source": [
    "species_count = {}\n",
    "for entry in testamp:\n",
    "    common_name = entry['common_name']\n",
    "    if common_name in species_count:\n",
    "        species_count[common_name] += 1\n",
    "    else:\n",
    "        species_count[common_name] = 1\n",
    "\n",
    "df = pd.DataFrame(list(species_count.items()), columns=['Common Name', 'Count'])"
   ]
  },
  {
   "cell_type": "code",
   "execution_count": null,
   "metadata": {},
   "outputs": [],
   "source": [
    "# print(df)\n",
    "\n",
    "sorted_df = df.sort_values('Common Name')\n",
    "print(sorted_df)"
   ]
  },
  {
   "cell_type": "code",
   "execution_count": null,
   "metadata": {},
   "outputs": [],
   "source": [
    "# Plotting\n",
    "plt.figure(figsize=(10, 6))  # Set the figure size\n",
    "plt.bar(df['Common Name'], df['Count'], color='skyblue')  # Create a bar plot\n",
    "plt.xlabel('Species')  # X-axis label\n",
    "plt.ylabel('Count')  # Y-axis label\n",
    "plt.title('Count of Bird Observations by Species')  # Title of the plot\n",
    "plt.xticks(rotation=45)  # Rotate x-axis labels for better readability\n",
    "plt.show()  # Display the plot"
   ]
  },
  {
   "cell_type": "code",
   "execution_count": null,
   "metadata": {},
   "outputs": [],
   "source": [
    "analyzer = Analyzer()\n",
    "\n",
    "recording = Recording(\n",
    "    analyzer,\n",
    "    \"test.mp3\",\n",
    "    lat=52.911,\n",
    "    lon=-2.4441,\n",
    "    date=datetime(year=2024, month=4, day=5), # use date or week_48\n",
    "    min_conf=0.25,\n",
    ")\n",
    "recording.analyze()"
   ]
  },
  {
   "cell_type": "code",
   "execution_count": null,
   "metadata": {},
   "outputs": [],
   "source": [
    "test = recording.detections\n",
    "print(test)"
   ]
  },
  {
   "cell_type": "code",
   "execution_count": null,
   "metadata": {},
   "outputs": [],
   "source": [
    "# Extract confidence values for \"Great Tit\"\n",
    "confidence_testamp = [entry['confidence'] for entry in testamp if entry['common_name'] == 'Great Tit']\n",
    "confidence_test = [entry['confidence'] for entry in test if entry['common_name'] == 'Great Tit']\n",
    "\n",
    "# Create DataFrame for plotting\n",
    "data = {\n",
    "    \"testamp\": confidence_testamp,\n",
    "    \"test\": confidence_test\n",
    "}\n",
    "df = pd.DataFrame(data)\n",
    "\n",
    "# Plotting\n",
    "plt.figure(figsize=(8, 6))\n",
    "df.boxplot(column=['testamp', 'test'])\n",
    "plt.ylabel('Confidence')\n",
    "plt.title('Confidence Levels for Great Tit Observations')\n",
    "plt.show()\n",
    "\n"
   ]
  },
  {
   "cell_type": "code",
   "execution_count": null,
   "metadata": {},
   "outputs": [],
   "source": [
    "# Perform a t-test\n",
    "from scipy.stats import ttest_ind\n",
    "t_stat, p_value = ttest_ind(confidence_testamp, confidence_test, equal_var=False)\n",
    "print(f\"T-statistic: {t_stat}, P-value: {p_value}\")"
   ]
  },
  {
   "cell_type": "markdown",
   "metadata": {},
   "source": [
    "## Sources\n",
    "https://github.com/kahst/BirdNET-Analyzer?tab=readme-ov-file#62-setup-birdnetlib"
   ]
  }
 ],
 "metadata": {
  "kernelspec": {
   "display_name": "base",
   "language": "python",
   "name": "python3"
  },
  "language_info": {
   "codemirror_mode": {
    "name": "ipython",
    "version": 3
   },
   "file_extension": ".py",
   "mimetype": "text/x-python",
   "name": "python",
   "nbconvert_exporter": "python",
   "pygments_lexer": "ipython3",
   "version": "3.10.7"
  }
 },
 "nbformat": 4,
 "nbformat_minor": 2
}

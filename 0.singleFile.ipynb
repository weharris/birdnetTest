{
  "cells": [
    {
      "cell_type": "markdown",
      "metadata": {},
      "source": [
        "# BirdNet sandbox code\n",
        "\n",
        "This is a small collection of code to manipulate and analyse recording of bird song using the BirdNet Analyzer model to classify bird species based on recordings. The code is intended for use using Google Colab but can be easily altered for use on a local machine.  "
      ]
    },
    {
      "cell_type": "code",
      "execution_count": null,
      "metadata": {
        "colab": {
          "base_uri": "https://localhost:8080/"
        },
        "id": "XfD-vcML2fRz",
        "outputId": "d0cfc6de-483b-41e0-fd62-8288e4859b7a"
      },
      "outputs": [],
      "source": [
        "!git clone https://github.com/weharris/birdnetTest"
      ]
    },
    {
      "cell_type": "code",
      "execution_count": null,
      "metadata": {
        "colab": {
          "base_uri": "https://localhost:8080/"
        },
        "id": "gVuVfBMJ2fR0",
        "outputId": "646895e7-93d4-4ac0-d2e1-ddb99e12cf93"
      },
      "outputs": [],
      "source": [
        "cd birdnetTest/"
      ]
    },
    {
      "cell_type": "code",
      "execution_count": null,
      "metadata": {
        "colab": {
          "base_uri": "https://localhost:8080/"
        },
        "id": "Ob8KuJjO2fR0",
        "outputId": "612c18c8-2152-47b8-a6ff-246204273956"
      },
      "outputs": [],
      "source": [
        "!pip3 install birdnetlib\n",
        "!pip3 install tflite-runtime\n",
        "!pip3 install resampy\n",
        "!pip3 install ffmpeg"
      ]
    },
    {
      "cell_type": "code",
      "execution_count": 4,
      "metadata": {
        "id": "YFXmzcSd2fR1"
      },
      "outputs": [],
      "source": [
        "from birdnetlib import Recording\n",
        "from birdnetlib.analyzer import Analyzer\n",
        "from datetime import datetime"
      ]
    },
    {
      "cell_type": "markdown",
      "metadata": {},
      "source": [
        "## Analyze a single audio file"
      ]
    },
    {
      "cell_type": "code",
      "execution_count": null,
      "metadata": {
        "colab": {
          "base_uri": "https://localhost:8080/"
        },
        "id": "8be4AqbY2fR2",
        "outputId": "baa538c4-80ca-4bf0-cc50-dac78661ad16"
      },
      "outputs": [],
      "source": [
        "# This cell uses BirdNET-Analyzer to analyze a single audio recording.\n",
        "# Load and initialize the BirdNET-Analyzer models.\n",
        "analyzer = Analyzer()\n",
        "\n",
        "testamp = [52.911,-2.4441] # near Market Drayton year=2024, month=4, day=5\n",
        "xc558223 = [57.4706, -4.163] # Highlands Scotland 2020-05-14 4am year=2020, month=5, day=14\n",
        "XC553677 = [54.1212, -0.5416] # Ryedale District,(near Helperthorpe) North Yorkshire 2020-05-01 5:10a year=2020, month=5, day=1\n",
        "\n",
        "recording = Recording(\n",
        "    analyzer,\n",
        "    \"data/EdH20240405/testamp.mp3\",  # path to the recording file\n",
        "    lat=testamp[0], # latitude of the recording location\n",
        "    lon=testamp[1], # longitude of the recording location\n",
        "    date=datetime(year=2024, month=4, day=20), # use date or week_48\n",
        "    min_conf=0.25,\n",
        ")\n",
        "recording.analyze()\n",
        "\n",
        "myDetections = recording.detections"
      ]
    },
    {
      "cell_type": "code",
      "execution_count": null,
      "metadata": {},
      "outputs": [],
      "source": [
        "# for Single File and list of spp, counts, and mean prediction confidence\n",
        "import pandas as pd\n",
        "\n",
        "species_count = {}\n",
        "species_confidence = {}\n",
        "for entry in myDetections:\n",
        "    common_name = entry['common_name']\n",
        "    confidence = entry['confidence']\n",
        "    if common_name in species_count:\n",
        "        species_count[common_name] += 1\n",
        "        species_confidence[common_name].append(confidence)\n",
        "    else:\n",
        "        species_count[common_name] = 1\n",
        "        species_confidence[common_name] = [confidence]\n",
        "\n",
        "mean_confidence = {common_name: sum(confidences) / len(confidences) for common_name, confidences in species_confidence.items()}\n",
        "\n",
        "df = pd.DataFrame({'Common Name': list(species_count.keys()), 'Count': list(species_count.values()), 'Mean Confidence': list(mean_confidence.values())})\n",
        "\n",
        "sorted_df = df.sort_values('Common Name')\n",
        "# sorted_df = df.sort_values('Count', ascending=False)\n",
        "sorted_df.head()"
      ]
    },
    {
      "cell_type": "code",
      "execution_count": null,
      "metadata": {
        "colab": {
          "base_uri": "https://localhost:8080/",
          "height": 638
        },
        "id": "VZ8tnDxf2fR3",
        "outputId": "70b4c9c6-4a16-4cbf-961c-f695e50ac587"
      },
      "outputs": [],
      "source": [
        "import matplotlib.pyplot as plt\n",
        "\n",
        "# Plot the count of each species ID\n",
        "plt.figure(figsize=(10, 6))  # Set the figure size\n",
        "plt.barh(df['Common Name'], df['Count'], color='skyblue')  # Create a horizontal bar plot\n",
        "plt.ylabel('Species')  # Y-axis label\n",
        "plt.xlabel('Count')  # X-axis label\n",
        "plt.title('Count of Bird Observations by Species')  # Title of the plot\n",
        "plt.show()  # Display the plot"
      ]
    },
    {
      "cell_type": "code",
      "execution_count": null,
      "metadata": {
        "vscode": {
          "languageId": "r"
        }
      },
      "outputs": [],
      "source": [
        "# Plot species by mean confidence\n",
        "plt.figure(figsize=(10, 6))  # Set the figure size\n",
        "plt.boxplot(species_confidence.values(), vert=False)  # Create a horizontal boxplot\n",
        "plt.yticks(range(1, len(species_confidence) + 1), species_confidence.keys())  # Set y-axis labels\n",
        "plt.ylabel('Species')  # Y-axis label\n",
        "plt.xlabel('Confidence')  # X-axis label\n",
        "plt.title('Confidence of Bird Observations by Species')  # Title of the plot\n",
        "\n",
        "# Annotate the boxplot with species counts\n",
        "for i, (species, count) in enumerate(species_count.items()):\n",
        "    plt.text(1.03, i + 1, f'n = {count}', ha='right', va='center')\n",
        "\n",
        "plt.ylim(0.5, len(species_count) + 0.5)  # Adjust the y-axis limits\n",
        "\n",
        "plt.subplots_adjust(right=1.1)  # Increase the space in the right side plot margin\n",
        "\n",
        "plt.show()  # Display the plot"
      ]
    },
    {
      "cell_type": "markdown",
      "metadata": {
        "id": "TwmWcaTZ2fR6"
      },
      "source": [
        "## Sources\n",
        "https://github.com/kahst/BirdNET-Analyzer?tab=readme-ov-file#62-setup-birdnetlib"
      ]
    }
  ],
  "metadata": {
    "colab": {
      "provenance": []
    },
    "kernelspec": {
      "display_name": "base",
      "language": "python",
      "name": "python3"
    },
    "language_info": {
      "codemirror_mode": {
        "name": "ipython",
        "version": 3
      },
      "file_extension": ".py",
      "mimetype": "text/x-python",
      "name": "python",
      "nbconvert_exporter": "python",
      "pygments_lexer": "ipython3",
      "version": "3.10.7"
    }
  },
  "nbformat": 4,
  "nbformat_minor": 0
}
